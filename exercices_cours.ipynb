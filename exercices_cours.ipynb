{
 "cells": [
  {
   "attachments": {},
   "cell_type": "markdown",
   "metadata": {},
   "source": [
    "# Exercices du cours (Bonus +1)\n",
    "## Conditions et boucles"
   ]
  },
  {
   "cell_type": "markdown",
   "metadata": {},
   "source": [
    "### Exercice 1\n",
    "Écrivez un programme Python pour supprimer le caractère d'indice n d'une chaîne de caractères."
   ]
  },
  {
   "cell_type": "code",
   "execution_count": 1,
   "metadata": {},
   "outputs": [
    {
     "name": "stdout",
     "output_type": "stream",
     "text": [
      "ousama\n"
     ]
    }
   ],
   "source": [
    "s_value = input(\"entrer une chaine de caractere ==> \")\n",
    "stringfy_index = int(input(\"Quelle position >> \"))\n",
    "\n",
    "newString = s_value[:stringfy_index] + s_value[stringfy_index+1:]\n",
    "\n",
    "print(newString)"
   ]
  },
  {
   "attachments": {},
   "cell_type": "markdown",
   "metadata": {},
   "source": [
    "### Exercice 2\n",
    "Écrivez un programme Python pour construire le modèle suivant, en utilisant des boucles for imbriquées.\n",
    "\n",
    "```\n",
    "* \n",
    "* * \n",
    "* * * \n",
    "* * * * \n",
    "* * * * * \n",
    "* * * * \n",
    "* * * \n",
    "* * \n",
    "*\n",
    "```"
   ]
  },
  {
   "cell_type": "code",
   "execution_count": 2,
   "metadata": {},
   "outputs": [
    {
     "name": "stdout",
     "output_type": "stream",
     "text": [
      "\n",
      "*\n",
      "**\n",
      "***\n",
      "****\n",
      "*****\n",
      "****\n",
      "***\n",
      "**\n",
      "*\n"
     ]
    }
   ],
   "source": [
    "itter = 6\n",
    "\n",
    "for i in range(0, itter):\n",
    "    print('*'*i)\n",
    "    if (i == 5):\n",
    "        for j in range(itter-2, 0, -1):\n",
    "            print('*'*j)"
   ]
  },
  {
   "attachments": {},
   "cell_type": "markdown",
   "metadata": {},
   "source": [
    "### Exercice 3\n",
    "Écrivez un programme Python qui prend une liste de mots et renvoie le mot le plus long et la longueur du mot le plus long.\n",
    "Exemples de la liste : [“python”, “boucle”, “exercices”]\n",
    "\n",
    "Résultat :\n",
    "\n",
    "Mot le plus long : exercices\n",
    "\n",
    "Longueur du mot le plus long : 9"
   ]
  },
  {
   "cell_type": "code",
   "execution_count": 4,
   "metadata": {},
   "outputs": [
    {
     "name": "stdout",
     "output_type": "stream",
     "text": [
      "Mot le plus long: exercices\n",
      "Longueur du mot le plus long: 9\n"
     ]
    }
   ],
   "source": [
    "liste = ['python', 'boucle', 'exercices']\n",
    "plusGrand = [liste[0],len(liste[0])]\n",
    "for i in liste :\n",
    "  if plusGrand[1] < len(i):\n",
    "    plusGrand[0] = i\n",
    "    plusGrand[1] = len(i)\n",
    "\n",
    "\n",
    "print(f\"Mot le plus long: {plusGrand[0]}\\nLongueur du mot le plus long: {plusGrand[1]}\")\n"
   ]
  },
  {
   "attachments": {},
   "cell_type": "markdown",
   "metadata": {},
   "source": [
    "### Exercice 4\n",
    "Écrivez un programme Python pour supprimer les doublons d'une liste."
   ]
  },
  {
   "cell_type": "code",
   "execution_count": 15,
   "metadata": {},
   "outputs": [
    {
     "name": "stdout",
     "output_type": "stream",
     "text": [
      "[1, 2, 3, 15, 45, 51]\n"
     ]
    }
   ],
   "source": [
    "liste = [15, 2, 3, 45, 1, 3, 51, 2, 15, 51]\n",
    "liste.sort()\n",
    "newListe = []\n",
    "for elem in liste:\n",
    "    counter = 0\n",
    "    for number in liste:\n",
    "      if counter < 1 and elem not in newListe:\n",
    "        newListe.append(elem)\n",
    "        counter +=1\n",
    "print(newListe)"
   ]
  },
  {
   "attachments": {},
   "cell_type": "markdown",
   "metadata": {},
   "source": [
    "### Exercice 5\n",
    "Écrivez un script Python pour ajouter un élément à un tuple."
   ]
  },
  {
   "attachments": {},
   "cell_type": "markdown",
   "metadata": {},
   "source": [
    "### Exercice 6\n",
    "Écrivez un script Python pour compter le nombre de caractères (fréquence des caractères) d'une chaîne de caractères.\n",
    "\n",
    "Exemple d'une chaîne de caractères : 'google.com'.\n",
    "\n",
    "Résultat : {'g' : 2, 'o' : 3, 'l' : 1, 'e' : 1, '.' : 1, 'c' : 1, 'm' : 1}\n"
   ]
  },
  {
   "cell_type": "code",
   "execution_count": 19,
   "metadata": {},
   "outputs": [
    {
     "name": "stdout",
     "output_type": "stream",
     "text": [
      "{'g': 2, 'o': 3, 'l': 1, 'e': 1, '.': 1, 'c': 1, 'm': 1}\n"
     ]
    }
   ],
   "source": [
    "string = 'google.com'\n",
    "dicString = {}\n",
    "\n",
    "for car in string:\n",
    "  if car in dicString :\n",
    "    dicString[car] +=1\n",
    "  else :\n",
    "    dicString[car] = 1\n",
    "print(dicString)"
   ]
  },
  {
   "attachments": {},
   "cell_type": "markdown",
   "metadata": {},
   "source": [
    "### Exercice 7\n",
    "Écrivez un script Python pour concaténer les dictionnaires suivants afin d'en créer un nouveau.\n",
    "\n",
    "Exemple des dictionnaires :\n",
    "\n",
    "dic1={1:10, 2:20}\n",
    "\n",
    "dic2={3:30, 4:40}\n",
    "\n",
    "dic3={5:50, 6:60}\n",
    "\n",
    "Résultat : {1 : 10, 2 : 20, 3 : 30, 4 : 40, 5 : 50, 6 : 60}\n"
   ]
  },
  {
   "cell_type": "code",
   "execution_count": 20,
   "metadata": {},
   "outputs": [
    {
     "name": "stdout",
     "output_type": "stream",
     "text": [
      "{1: 10, 2: 20, 3: 30, 4: 40, 5: 50, 6: 60}\n"
     ]
    }
   ],
   "source": [
    "dict1={1:10,2:20}\n",
    "dict2={3:30,4:40}\n",
    "dict3={5:50,6:60}\n",
    "\n",
    "newCombDict = {**dict1, **dict2, **dict3}  # unpacking operator\n",
    "\n",
    "print(newCombDict)"
   ]
  },
  {
   "attachments": {},
   "cell_type": "markdown",
   "metadata": {},
   "source": [
    "### Exercice 8\n",
    "Écrivez un script Python pour trier un dictionnaire par valeur."
   ]
  },
  {
   "cell_type": "code",
   "execution_count": 21,
   "metadata": {},
   "outputs": [
    {
     "name": "stdout",
     "output_type": "stream",
     "text": [
      "{6: 60, 5: 50, 4: 40, 3: 30, 2: 20, 1: 10}\n"
     ]
    }
   ],
   "source": [
    "dictionValue = {1: 10, 2: 20, 3: 30, 4: 40, 5: 50, 6: 60}\n",
    "newDictSorted = sorted(dictionValue.items(),\n",
    "                        key=lambda x: x[1],\n",
    "                        reverse=True  # To descending the value we must put reverse **para** to False \n",
    "                      )  \n",
    "print(dict(newDictSorted))"
   ]
  },
  {
   "attachments": {},
   "cell_type": "markdown",
   "metadata": {},
   "source": [
    "## Fonctions"
   ]
  },
  {
   "attachments": {},
   "cell_type": "markdown",
   "metadata": {},
   "source": [
    "### Exercice 1\n",
    "Écrivez une fonction Python qui accepte les paramètres b et n puis calculez la valeur de b<sup>n</sup> où n est l'exposant et b est la base."
   ]
  },
  {
   "cell_type": "code",
   "execution_count": 1,
   "metadata": {},
   "outputs": [
    {
     "name": "stdout",
     "output_type": "stream",
     "text": [
      "25\n",
      "64\n"
     ]
    }
   ],
   "source": [
    "def pui(b,n):\n",
    "  return (b)**n\n",
    "print(pui(5,2))\n",
    "print(pui(2,6))"
   ]
  },
  {
   "attachments": {},
   "cell_type": "markdown",
   "metadata": {},
   "source": [
    "### Exercice 2\n",
    "Écrivez une fonction Python pour afficher les nombres pairs d'une liste donnée.\n",
    "\n",
    "Exemple de liste : [1, 2, 3, 4, 5, 6, 7, 8, 9]\n",
    "\n",
    "Résultat attendu : [2, 4, 6, 8]"
   ]
  },
  {
   "cell_type": "code",
   "execution_count": 12,
   "metadata": {},
   "outputs": [
    {
     "name": "stdout",
     "output_type": "stream",
     "text": [
      "[1, 3, 5, 7, 9, 11, 13, 15, 17, 19, 21, 23, 25, 27, 29, 31, 33, 35, 37, 39, 41, 43, 45, 47, 49, 51, 53, 55, 57, 59, 61, 63, 65, 67, 69, 71, 73, 75, 77, 79, 81, 83, 85, 87, 89, 91, 93, 95, 97, 99]\n"
     ]
    }
   ],
   "source": [
    "def isPaire(tabPaire):\n",
    "  paiTab = []\n",
    "  for i in range(1,max(tabPaire),2):\n",
    "    if i in tabPaire :\n",
    "      paiTab.append(i)\n",
    "  return paiTab\n",
    "print(isPaire([i for i in range(1,101)]))"
   ]
  },
  {
   "attachments": {},
   "cell_type": "markdown",
   "metadata": {},
   "source": [
    "### Exercice 3\n",
    "Écrivez une fonction Python pour faire la somme de deux listes données.\n",
    "\n",
    "Exemple des listes : [1, 2, 3] , [4, 5, 6]\n",
    "\n",
    "Résultat : [5, 7, 9]"
   ]
  },
  {
   "cell_type": "code",
   "execution_count": 20,
   "metadata": {},
   "outputs": [
    {
     "name": "stdout",
     "output_type": "stream",
     "text": [
      "[5, 7, 9]\n"
     ]
    }
   ],
   "source": [
    "tab1 = [1,2,3]\n",
    "tab2 = [4,5,6]\n",
    "def sumTab(t1,t2) : \n",
    "  return [t1[i] + t2[i] for i in range(0,len(t1))]\n",
    "print(sumTab(tab1,tab2))"
   ]
  },
  {
   "attachments": {},
   "cell_type": "markdown",
   "metadata": {},
   "source": [
    "### Exercice 4\n",
    "Écrivez une fonction Python qui multiplie chaque nombre d'une liste par un nombre donné.\n",
    "\n",
    "Exemple d’une liste : [2, 4, 6, 9, 11]\n",
    "\n",
    "Nombre donné : 2\n",
    "\n",
    "Résultat : [4, 8, 12, 18, 22]"
   ]
  },
  {
   "cell_type": "code",
   "execution_count": 24,
   "metadata": {},
   "outputs": [
    {
     "name": "stdout",
     "output_type": "stream",
     "text": [
      "[4, 6, 12, 18, 22]\n"
     ]
    }
   ],
   "source": [
    "def multiListe(liste, multi):\n",
    "  newList = []\n",
    "  for i in liste:\n",
    "    newList.append(i*multi)\n",
    "  return newList\n",
    "\n",
    "\n",
    "print(multiListe([2, 3, 6, 9, 11], 2))\n"
   ]
  },
  {
   "attachments": {},
   "cell_type": "markdown",
   "metadata": {},
   "source": [
    "### Exercice 5\n",
    "Écrivez une fonction Python qui accepte un nombre arbitraire de paramètres (listes) et trouvez la liste la plus longue et la plus courte.\n",
    "\n",
    "Exemple des arguments : [0], [1, 3], [5, 7], [9, 11], [13, 15, 17]\n",
    "\n",
    "La liste la plus longue : (3, [13, 15, 17])\n",
    "\n",
    "La liste la plus courte : (1, [0])"
   ]
  },
  {
   "cell_type": "code",
   "execution_count": 25,
   "metadata": {},
   "outputs": [
    {
     "name": "stdout",
     "output_type": "stream",
     "text": [
      "(3,[13, 15, 17]) \n",
      "(1,[0])\n"
     ]
    }
   ],
   "source": [
    "def listView(*list):\n",
    "  max = list[0]\n",
    "  min = list[0]\n",
    "  for l in list:\n",
    "    if(len(l)>len(max)):\n",
    "      max = l\n",
    "    if(len(l)<len(min)):\n",
    "      min = l\n",
    "  # return f\"({len(max)},{max}) \\n({len(min)},{min})\"\n",
    "  return {'min':min,'max':max}\n",
    "\n",
    "values = listView([0], [1, 3],  [5, 7],  [9, 11],  [13, 15, 17])\n",
    "print(f\"({len(values['max'])},{values['max']}) \\n({len(values['min'])},{values['min']})\")\n"
   ]
  },
  {
   "attachments": {},
   "cell_type": "markdown",
   "metadata": {},
   "source": [
    "### Exercice 6\n",
    "Écrivez une fonction Python qui accepte comme paramètre une séquence de mots séparés par des traits d'union et qui retourne les mots séparés par des traits d'union après les avoir triés par ordre alphabétique.\n",
    "\n",
    "Exemple d'éléments :\n",
    "\n",
    "vert-rouge-jaune-noir-blanc\n",
    "\n",
    "Résultat attendu :\n",
    "\n",
    "blanc-jaune-noir-rouge-vert"
   ]
  },
  {
   "cell_type": "code",
   "execution_count": 26,
   "metadata": {},
   "outputs": [
    {
     "name": "stdout",
     "output_type": "stream",
     "text": [
      "blanc-jaune-noir-rouge-vert\n"
     ]
    }
   ],
   "source": [
    "def SpliteString(str):\n",
    "  splite = str.split('-')\n",
    "  splite.sort()\n",
    "  return '-'.join(splite)\n",
    "print(SpliteString('vert-rouge-jaune-noir-blanc'))\n"
   ]
  },
  {
   "cell_type": "markdown",
   "metadata": {},
   "source": [
    "### Exercice 7\n",
    "Écrivez une fonction Python pour combiner deux dictionnaires en ajoutant les valeurs des clés communes.\n",
    "\n",
    "Exemple d'entrée :\n",
    "\n",
    "{'a' : 100, 'b' : 200, 'c':300}, {'a' : 300, 'b' : 200, 'd':400}\n",
    "\n",
    "Résultat :\n",
    "\n",
    "{'a' : 400, 'b' : 400, 'd' : 400, 'c' : 300}"
   ]
  },
  {
   "cell_type": "code",
   "execution_count": 5,
   "metadata": {},
   "outputs": [
    {
     "name": "stdout",
     "output_type": "stream",
     "text": [
      "{'b': 400, 'd': 400, 'c': 300, 'a': 100}\n"
     ]
    }
   ],
   "source": [
    "def conbineDic(d1,d2):\n",
    "  result = {}\n",
    "  for key in set(d1.keys()) | set(d2.keys()): \n",
    "    result[key] = d1.get(key, 0) + d2.get(key, 0)\n",
    "  return result\n",
    "\n",
    "\n",
    "d1 = {'a': 100, 'b': 200, 'c': 300}\n",
    "d2 = {'b': 200, 'd': 400}\n",
    "\n",
    "result = conbineDic(d1, d2)\n",
    "\n",
    "print(result)\n"
   ]
  },
  {
   "attachments": {},
   "cell_type": "markdown",
   "metadata": {},
   "source": [
    "## Programmation orientée objet"
   ]
  },
  {
   "attachments": {},
   "cell_type": "markdown",
   "metadata": {},
   "source": [
    "### Exercice 1\n",
    "Définissez une classe, **Boule**, qui représente une seule boule de glace. Chaque boule doit avoir un seul attribut, **gout**, une chaîne que vous pouvez initialiser lorsque vous créez une instance de Boule.\n",
    "\n",
    "Une fois votre classe créée, écrivez une fonction **creerBoules** qui crée des instances de la classe Boule à l'aide d'une liste passée en paramètre, chacune avec un goût différent (```['chocolat', 'vanille', 'fraise']```). Placez ces instances dans une liste appelée boules et renvoyez la liste.\n",
    "\n",
    "Enfin, appelez la fonction **creerBoules** et itérez sur la liste renvoyée, en affichant le goût de chaque boule de glace que vous avez créée."
   ]
  },
  {
   "cell_type": "code",
   "execution_count": 11,
   "metadata": {},
   "outputs": [
    {
     "name": "stdout",
     "output_type": "stream",
     "text": [
      "chocolat\n",
      "None\n",
      "vanille\n",
      "None\n",
      "fraise\n",
      "None\n"
     ]
    },
    {
     "data": {
      "text/plain": [
       "[None, None, None]"
      ]
     },
     "execution_count": 11,
     "metadata": {},
     "output_type": "execute_result"
    }
   ],
   "source": [
    "class Boule:\n",
    "\n",
    "    def __init__(self, gout):\n",
    "        self.gout = gout\n",
    "    def __str__(self) -> str:\n",
    "        print(self.gout)\n",
    "\n",
    "\n",
    "def creerBoules(table):\n",
    "    return [Boule(elem) for elem in table]\n",
    "\n",
    "b1 = Boule('g1')\n",
    "b2 = Boule('g2')\n",
    "\n",
    "tbBoule = creerBoules(['chocolat', 'vanille', 'fraise'])\n",
    "[print(elem.__str__()) for elem in tbBoule]"
   ]
  },
  {
   "attachments": {},
   "cell_type": "markdown",
   "metadata": {},
   "source": [
    "### Exercice 2\n",
    "Dans l'exercice précédent, nous avons créé une classe Boule qui représente une boule de glace. Cependant, si nous voulons vraiment modéliser le monde réel, nous devons disposer d'un autre objet dans lequel nous pouvons placer les boules de glace. Créez une classe **Bol**, représentant un bol dans lequel nous pouvons mettre notre glace. Voici un exemple :\n",
    "\n",
    "```\n",
    "s1 = Boule('chocolat')\n",
    "s2 = Boule('vanille')\n",
    "s3 = Boule('fraise')\n",
    "b = Bol()\n",
    "b.ajouterBoules(s1, s2)\n",
    "b.ajouterBoules(s3)\n",
    "print(b)\n",
    "```"
   ]
  },
  {
   "cell_type": "code",
   "execution_count": null,
   "metadata": {},
   "outputs": [],
   "source": [
    "class Bol:\n",
    "  def __init__(self):\n",
    "    self.listeBoule = list\n",
    "\n",
    "  def ajouterBoules(self, *boules):\n",
    "    [self.listeBoule.append(bol) for bol in boules]\n",
    "\n",
    "  def __str__(slef):\n",
    "    [print(f'boule on {bl}') for bl in slef.listeBoule]\n"
   ]
  },
  {
   "cell_type": "markdown",
   "metadata": {},
   "source": [
    "### Exercice 3\n",
    "Essayez de limiter le nombre de boules dans un bol à trois. En d'autres termes, vous pouvez ajouter autant de boules que vous le souhaitez lors de chaque appel à ```b.ajouterBoules```, et vous pouvez appeler cette méthode autant de fois que vous le souhaitez, mais seules les trois premières boules seront réellement ajoutées. Toutes les autres boules seront ignorées."
   ]
  },
  {
   "cell_type": "code",
   "execution_count": null,
   "metadata": {},
   "outputs": [],
   "source": []
  },
  {
   "attachments": {},
   "cell_type": "markdown",
   "metadata": {},
   "source": [
    "## Programmation modulaire"
   ]
  },
  {
   "attachments": {},
   "cell_type": "markdown",
   "metadata": {},
   "source": [
    "### Exercice 1\n",
    "Écrivez un programme Python pour deviner une lettre. Vous pouvez utiliser la fonction **choice()** du module random pour choisir un élément aléatoire à partir d'une séquence spécifiée.\n",
    "\n",
    "La constante **ascii_letters** du module **string** renvoie une chaîne contenant les lettres minuscules et majuscules.\n",
    "\n",
    "Demander à l'utilisateur d'entrer une lettre et ensuite vérifier si c'est la lettre générée aléatoirement, si c'est le cas afficher \"Bravo\" sinon afficher \"Essayez à nouveau\"."
   ]
  },
  {
   "cell_type": "code",
   "execution_count": null,
   "metadata": {},
   "outputs": [],
   "source": [
    "from random import choice\n",
    "from string import ascii_letters\n",
    "\n",
    "while True:\n",
    "  randomLetter = choice(ascii_letters)\n",
    "  print(randomLetter)\n",
    "  word = input('Entrer un mot ==> ')\n",
    "  if word == randomLetter:\n",
    "    print('Bravo vous avez gagner')\n",
    "    break\n",
    "  elif word == 'done':\n",
    "    break\n",
    "  else:\n",
    "    print('Essayer à nouveau')"
   ]
  },
  {
   "attachments": {},
   "cell_type": "markdown",
   "metadata": {},
   "source": [
    "### Exercice 2\n",
    "Écrivez un programme Python pour générer un code hexadécimal de couleur aléatoire (par exemple \"FF0000\" pour le rouge).\n",
    "\n",
    "Afficher la couleur précédente générée aléatoirement dans une fenêtre à l'aide d'un paquet appelé **tkinter**. Remplacer la valeur spécifiée (\"#FF0000\") par la valeur appropriée.\n",
    "\n",
    "```\n",
    "from tkinter import Tk\n",
    "\n",
    "gui = Tk(className=\"Couleur Aléatoire\")\n",
    "gui.geometry(\"400x300\")\n",
    "gui.configure(bg=\"#FF0000\")\n",
    "gui.mainloop()\n",
    "```"
   ]
  },
  {
   "cell_type": "code",
   "execution_count": 1,
   "metadata": {},
   "outputs": [],
   "source": [
    "import random\n",
    "from string import hexdigits\n",
    "from tkinter import Tk\n",
    "\n",
    "def colorGenarator():\n",
    "  randomChar = random.choices(list(hexdigits.upper()), k=6)\n",
    "  return ''.join(randomChar)\n",
    "\n",
    "gui = Tk(className='Couleur Aléatoire')\n",
    "gui.geometry('400x300')\n",
    "gui.configure(bg=f'#{colorGenarator()}')\n",
    "gui.mainloop()\n"
   ]
  },
  {
   "cell_type": "markdown",
   "metadata": {},
   "source": [
    "### Exercice 3\n",
    "Créer un module nommé **guess_game** qui peut être utilisé pour deviner un nombre, une lettre ou un mot aléatoire."
   ]
  }
 ],
 "metadata": {
  "kernelspec": {
   "display_name": "Python 3",
   "language": "python",
   "name": "python3"
  },
  "language_info": {
   "codemirror_mode": {
    "name": "ipython",
    "version": 3
   },
   "file_extension": ".py",
   "mimetype": "text/x-python",
   "name": "python",
   "nbconvert_exporter": "python",
   "pygments_lexer": "ipython3",
   "version": "3.10.10"
  },
  "orig_nbformat": 4
 },
 "nbformat": 4,
 "nbformat_minor": 2
}
