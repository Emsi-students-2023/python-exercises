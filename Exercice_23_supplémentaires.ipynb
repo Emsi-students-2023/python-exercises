{
 "cells": [
  {
   "attachments": {},
   "cell_type": "markdown",
   "metadata": {},
   "source": [
    "# Exercice 23 Du cours"
   ]
  },
  {
   "cell_type": "code",
   "execution_count": 1,
   "metadata": {},
   "outputs": [],
   "source": [
    "def run_length_encoding(data):\n",
    "    encoded_data = []\n",
    "    i = 0\n",
    "    while i < len(data):\n",
    "        count = 1\n",
    "        while i + count < len(data) and data[i + count] == data[i]:\n",
    "            count += 1\n",
    "        if count == 1:\n",
    "            encoded_data.append(data[i])\n",
    "        else:\n",
    "            encoded_data.append(data[i])\n",
    "            encoded_data.append(count)\n",
    "        i += count\n",
    "    return encoded_data\n"
   ]
  },
  {
   "attachments": {},
   "cell_type": "markdown",
   "metadata": {},
   "source": [
    "La fonction de décompression peut être implémentée comme suit :\n",
    "\n"
   ]
  },
  {
   "cell_type": "code",
   "execution_count": null,
   "metadata": {},
   "outputs": [],
   "source": [
    "def run_length_decoding(encoded_data):\n",
    "    decoded_data = []\n",
    "    i = 0\n",
    "    while i < len(encoded_data):\n",
    "        if isinstance(encoded_data[i], int):\n",
    "            decoded_data.extend([encoded_data[i-1]] * encoded_data[i])\n",
    "        else:\n",
    "            decoded_data.append(encoded_data[i])\n",
    "        i += 1\n",
    "    return decoded_data\n"
   ]
  }
 ],
 "metadata": {
  "kernelspec": {
   "display_name": "Python 3",
   "language": "python",
   "name": "python3"
  },
  "language_info": {
   "codemirror_mode": {
    "name": "ipython",
    "version": 3
   },
   "file_extension": ".py",
   "mimetype": "text/x-python",
   "name": "python",
   "nbconvert_exporter": "python",
   "pygments_lexer": "ipython3",
   "version": "3.10.4"
  },
  "orig_nbformat": 4
 },
 "nbformat": 4,
 "nbformat_minor": 2
}
