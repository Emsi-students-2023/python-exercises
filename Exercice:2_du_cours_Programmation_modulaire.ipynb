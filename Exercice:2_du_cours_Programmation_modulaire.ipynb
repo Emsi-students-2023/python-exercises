{
 "cells": [
  {
   "attachments": {},
   "cell_type": "markdown",
   "metadata": {},
   "source": [
    "# Programmation modulaire EXO 3"
   ]
  },
  {
   "cell_type": "code",
   "execution_count": null,
   "metadata": {},
   "outputs": [],
   "source": [
    "def run_length_encoding(data):\n",
    "    encoded = []\n",
    "    prev = None\n",
    "    count = 0\n",
    "    for d in data:\n",
    "        if d != prev:\n",
    "            if prev is not None:\n",
    "                encoded.append(prev)\n",
    "                encoded.append(count)\n",
    "            prev = d\n",
    "            count = 1\n",
    "        else:\n",
    "            count += 1\n",
    "    encoded.append(prev)\n",
    "    encoded.append(count)\n",
    "    return encoded\n"
   ]
  },
  {
   "attachments": {},
   "cell_type": "markdown",
   "metadata": {},
   "source": [
    "implémentation de la fonction de décodage correspondante"
   ]
  },
  {
   "cell_type": "code",
   "execution_count": null,
   "metadata": {},
   "outputs": [],
   "source": [
    "def run_length_decoding(encoded):\n",
    "    decoded = []\n",
    "    for i in range(0, len(encoded), 2):\n",
    "        value = encoded[i]\n",
    "        count = encoded[i+1]\n",
    "        decoded.extend([value]*count)\n",
    "    return decoded\n"
   ]
  }
 ],
 "metadata": {
  "language_info": {
   "name": "python"
  },
  "orig_nbformat": 4
 },
 "nbformat": 4,
 "nbformat_minor": 2
}
