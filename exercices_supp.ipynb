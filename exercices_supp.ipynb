{
 "cells": [
  {
   "attachments": {},
   "cell_type": "markdown",
   "metadata": {},
   "source": [
    "# Exercices supplémentaires (Bonus +1.5)"
   ]
  },
  {
   "attachments": {},
   "cell_type": "markdown",
   "metadata": {},
   "source": [
    "## Exercice 1\n",
    "Créez la fonction *sum_input* qui calcule la moyenne d'une collection de valeurs entrées par l'utilisateur. L'utilisateur entrera 0 comme valeur limite pour indiquer qu'aucune autre valeur ne sera fournie. Votre programme doit afficher un message d'erreur approprié si la première valeur saisie par l'utilisateur est 0."
   ]
  },
  {
   "attachments": {},
   "cell_type": "markdown",
   "metadata": {},
   "source": [
    "## Exercice 2\n",
    "L'un des premiers exemples connus de cryptage a été utilisé par Jules César. César devait fournir des instructions écrites à ses généraux, mais il ne voulait pas que ses ennemis apprennent ses plans si le message tombait entre leurs mains. Il a donc développé ce que l'on a appelé plus tard le chiffre de César.\n",
    "\n",
    "Le principe de ce chiffrement est simple (et en tant que tel, il n'offre aucune protection contre les techniques modernes de décryptage). Chaque lettre du message original est décalée de 3 places. Par conséquent, A devient D, B devient E, C devient F, D devient G, etc.\n",
    "\n",
    "Les trois dernières lettres de l'alphabet sont ramenées au début : X devient A, Y devient B et Z devient C. Les caractères non alphabétiques ne sont pas modifiés par le chiffrement.\n",
    "\n",
    "Écrivez un programme qui met en œuvre un chiffrement de type César. Permettez à l'utilisateur de fournir le message et la quantité de décalage, puis affichez le message décalé. Assurez-vous que votre programme code les lettres majuscules et minuscules. Votre programme doit également prendre en charge les valeurs de décalage négatives afin qu'il puisse être utilisé à la fois pour coder et décoder des messages."
   ]
  },
  {
   "attachments": {},
   "cell_type": "markdown",
   "metadata": {},
   "source": [
    "## Exercice 3\n",
    "Écrivez un programme qui convertit un nombre binaire (base 2) en décimal (base 10). Votre programme doit commencer par lire le nombre binaire de l'utilisateur sous forme de chaîne de caractères. Il doit ensuite calculer le nombre décimal équivalent en traitant chaque chiffre du nombre binaire. Enfin, votre programme doit afficher le nombre décimal équivalent avec un message approprié."
   ]
  },
  {
   "attachments": {},
   "cell_type": "markdown",
   "metadata": {},
   "source": [
    "## Exercice 4\n",
    "Écrivez un programme qui convertit un nombre décimal (base 10) en binaire (base 2). Lisez le nombre décimal de l'utilisateur sous la forme d'un nombre entier, puis utilisez l'algorithme de division illustré ci-dessous pour effectuer la conversion. Lorsque l'algorithme est terminé, le résultat contient la représentation binaire du nombre. Affichez le résultat, accompagné d'un message approprié.\n",
    "\n",
    "    \n",
    "    Soit le résultat une chaîne de caractères vide\n",
    "\n",
    "    Soit q représentant le nombre à convertir\n",
    "    \n",
    "    Répétez:\n",
    "    \n",
    "        Fixer r égal au reste lorsque q est divisé par 2\n",
    "    \n",
    "        Convertissez r en une chaîne de caractères et ajoutez-la au début du résultat.\n",
    "    \n",
    "        Divisez q par 2, en éliminant le reste, et enregistrez le résultat dans q\n",
    "    jusqu'à ce que q soit égal à 0"
   ]
  },
  {
   "attachments": {},
   "cell_type": "markdown",
   "metadata": {},
   "source": [
    "## Exercice 5\n",
    "Une sous-liste est une liste qui fait partie d'une liste plus grande. Une sous-liste peut être une liste contenant un seul élément, plusieurs éléments ou même aucun élément. Par exemple, [1], [2], [3] et [4] sont toutes des sous-listes de [1, 2, 3, 4]. La liste [2, 3] est également une sous-liste de [1, 2, 3, 4], mais [2, 4] n'est pas une sous-liste de [1, 2, 3, 4] car les éléments 2 et 4 ne sont pas adjacents dans la liste la plus longue. La liste vide est une sous-liste de toute liste. Par conséquent, [] est une sous-liste de [1, 2, 3, 4]. Une liste est une sous-liste d'elle-même, ce qui signifie que [1, 2, 3, 4] est également une sous-liste de [1, 2, 3, 4].\n",
    "\n",
    "Dans cet exercice, vous allez créer une fonction, *estSousListe*, qui détermine si une liste est ou non une sous-liste d'une autre. Votre fonction doit prendre deux listes, la plus grande (*sous_list*) et la plus petite (*super_list*), comme seuls paramètres. Elle doit retourner *True* si et seulement si *sous_list* est une sous-liste de *super_list*. Écrivez un programme qui démontre votre fonction en affichant la relation d'appartenance de plusieurs listes différentes."
   ]
  },
  {
   "attachments": {},
   "cell_type": "markdown",
   "metadata": {},
   "source": [
    "## Exercice 6\n",
    "Écrivez une fonction nommée *inverseRelation* qui trouve toutes les clés d'un dictionnaire qui correspondent à une valeur spécifique. La fonction prendra le dictionnaire et la valeur à rechercher comme seuls paramètres. Elle renvoie une liste (probablement vide) de clés du dictionnaire qui correspondent à la valeur fournie. Incluez un programme qui démontre la fonction *inverseRelation* dans votre solution à cet exercice. Votre programme doit créer un dictionnaire et montrer que la fonction *inverseRelation* fonctionne correctement lorsqu'elle renvoie plusieurs clés, une seule clé et aucune clé."
   ]
  },
  {
   "cell_type": "markdown",
   "metadata": {},
   "source": [
    "## Exercice 7\n",
    "Sur certains téléphones cellulaires classiques, les messages texte peuvent être envoyés à l'aide du clavier numérique. Comme chaque touche est associée à plusieurs lettres, il faut appuyer plusieurs fois sur la touche pour la plupart des lettres. Appuyer une fois sur un chiffre génère le premier caractère associé à cette touche. En appuyant 2, 3, 4 ou 5 fois sur le chiffre, on obtient le deuxième, troisième, quatrième ou cinquième caractère.\n",
    "\n",
    "<table border=\"1\">\n",
    "<thead>\n",
    "<tr><th>Touche</th><th>Caractère</th></tr>\n",
    "</thead>\n",
    "<tbody>\n",
    "<tr><td>1</td><td>.,?!:</td></tr>\n",
    "<tr><td>2</td><td>ABC</td></tr>\n",
    "<tr><td>3</td><td>DEF</td></tr>\n",
    "<tr><td>4</td><td>GHI</td></tr>\n",
    "<tr><td>5</td><td>JKL</td></tr>\n",
    "<tr><td>6</td><td>MNO</td></tr>\n",
    "<tr><td>7</td><td>PQRS</td></tr>\n",
    "<tr><td>8</td><td>TUV</td></tr>\n",
    "<tr><td>9</td><td>WXYZ</td></tr>\n",
    "<tr><td>0</td><td>espace</td></tr>\n",
    "</tbody>\n",
    "</table>\n",
    "\n",
    "Écrivez un programme qui affiche les pressions de touche nécessaires pour un message saisi par l'utilisateur. Construisez un dictionnaire qui associe chaque lettre ou symbole aux pressions de touche nécessaires pour le générer. Utilisez ensuite le dictionnaire pour créer et afficher les pressions nécessaires pour le message de l'utilisateur. Par exemple, si l'utilisateur saisit \"Hello, World !\", votre programme doit afficher \"44 33 555 555 666 11 0 9 666 777 555 3 0 1111\". Assurez-vous que votre programme traite les lettres majuscules et minuscules. Ignorez tous les caractères qui ne figurent pas dans le tableau ci-dessus, tels que les points-virgules et les parenthèses."
    "CARACTERE = {
    'a': '2', 'b': '22', 'c': '222','d': '3', 'e': '33', 'f': '333',
    'g': '4', 'h': '44', 'i': '444','j': '5', 'k': '55', 'l': '555',
    'm': '6', 'n': '66', 'o': '666','p': '7', 'q': '77', 'r': '777', 's': '7777',
    't': '8', 'u': '88', 'v': '888','w': '9', 'x': '99', 'y': '999', 'z': '9999',
    ' ': '0','.': '1', ',': '11', '?': '111', '!': '1111', ':': '11111'
    }"

   " def nbrTouche(m):
       " m = m.lower()
        "touche = []
        "for i in m:
            "if i in CARACTERE:
                "touche.append(CARACTERE[i])
    "return ' '.join(touche)
    "m = input(""entrez un message\n")
    "print(nbrTouche(m))
   ]
   },
  
  {
   "cell_type": "markdown",
   "metadata": {},
   "source": [
    "## Exercice 8\n",
    "Le code Morse est un schéma d'encodage qui utilise des tirets et des points pour représenter les chiffres et les lettres. Dans cet exercice, vous allez écrire un programme qui utilise un dictionnaire pour stocker la correspondance entre ces symboles et le code Morse. La correspondance entre les caractères et les tirets et points est présentée dans le tableau ci-dessous.\n",
    "\n",
    "<table border=\"1\">\n",
    "<thead>\n",
    "<tr><th>Symbole</th><th>Code</th><th>Symbole</th><th>Code</th><th>Symbole</th><th>Code</th><th>Symbole</th><th>Code</th></tr>\n",
    "</thead>\n",
    "<tbody>\n",
    "<tr><td>A</td><td>.-</td><td>J</td><td>.---</td><td>S</td><td>...</td><td>1</td><td>.----</td></tr>\n",
    "<tr><td>B</td><td>-...</td><td>K</td><td>-.-</td><td>T</td><td>-</td><td>2</td><td>..---</td></tr>\n",
    "<tr><td>C</td><td>-.-.</td><td>L</td><td>.-..</td><td>U</td><td>..-</td><td>3</td><td>...--</td></tr>\n",
    "<tr><td>D</td><td>-..</td><td>M</td><td>--</td><td>V</td><td>...-</td><td>4</td><td>....-</td></tr>\n",
    "<tr><td>E</td><td>.</td><td>N</td><td>-.</td><td>W</td><td>.--</td><td>5</td><td>.....</td></tr>\n",
    "<tr><td>F</td><td>..-.</td><td>O</td><td>---</td><td>X</td><td>-..-</td><td>6</td><td>-....</td></tr>\n",
    "<tr><td>G</td><td>--.</td><td>P</td><td>.--.</td><td>Y</td><td>-.--</td><td>7</td><td>--...</td></tr>\n",
    "<tr><td>H</td><td>....</td><td>Q</td><td>--.-</td><td>Z</td><td>--..</td><td>8</td><td>---..</td></tr>\n",
    "<tr><td>I</td><td>..</td><td>R</td><td>.-.</td><td>0</td><td>-----</td><td>9</td><td>----.</td></tr>\n",
    "</tbody>\n",
    "</table>\n",
    "\n",
    "Votre programme doit lire un message de l'utilisateur. Il doit ensuite traduire toutes les lettres et tous les chiffres du message en code Morse, en laissant un espace entre chaque séquence de tirets et de points. Votre programme doit ignorer tous les caractères qui ne figurent pas dans le tableau précédent. Le code morse pour \"Hello, World !\" est présenté ci-dessous :\n",
    "\n",
    "```raw\n",
    ".... . .-.. .-.. --- .-- --- .-. .-.. -..\n",
    "```"
   ]
  },
  {
   "cell_type": "markdown",
   "metadata": {},
   "source": [
    "## Exercice 9\n",
    "Les codes ASCII des lettres minuscules de l'alphabet vont de 97 (lettre \"a\") à 122 (lettre \"z\"). La fonction *chr* prend en argument un code ASCII sous la forme d'un entier et renvoie le caractère correspondant (sous la forme d'une chaîne de caractères). Ainsi *chr(97)* renvoie \"a\", *chr(98)* renvoie \"b\" et ainsi de suite.\n",
    "\n",
    "Créez la fonction *get_alphabet* qui utilise une boucle et la fonction *chr* et qui renvoie une chaîne de caractères contenant toutes les lettres de l'alphabet.\n",
    "\n",
    "Un [pangramme](https://fr.wikipedia.org/wiki/Pangramme) est une phrase comportant au moins une fois chaque lettre de l'alphabet. Par exemple, \"Voyez ce koala fou qui mange des journaux et des photos dans un bungalow\" est un pangramme.\n",
    "\n",
    "Créez la fonction *is_pangram* qui utilise la fonction *get_alphabet* précédente, qui prend en argument une chaîne de caractères et qui renvoie *True* est un pangramme si cette chaîne de caractères est un pangramme ou *False* sinon."
   ]
  },
  {
   "cell_type": "markdown",
   "metadata": {},
   "source": [
    "## Exercice 10\n",
    "Implémentez une fonction qui prend un entier comme argument et affiche un [triangle Pascal](https://fr.wikipedia.org/wiki/Triangle_de_Pascal). Par exemple, prenons la valeur 6 comme argument, la fonction affiche le triangle suivant :\n",
    "\n",
    "```\n",
    "1\n",
    "1 1\n",
    "1 2 1\n",
    "1 3 3 1\n",
    "1 4 6 4 1\n",
    "1 5 10 10 5 1\n",
    "```"
   ]
  },
  {
   "cell_type": "markdown",
   "metadata": {},
   "source": [
    "## Exercice 11\n",
    "Un bit de parité ([parity bit](https://en.wikipedia.org/wiki/Parity_bit)) est un mécanisme simple de détection des erreurs dans les données transmises sur une connexion non fiable telle qu'une ligne téléphonique. L'idée de base est qu'un bit supplémentaire est transmis après chaque groupe de 7 bits afin de pouvoir détecter une erreur d'un seul bit dans la transmission.\n",
    "\n",
    "Les bits de parité peuvent être calculés pour une parité paire ou impaire. Si la parité paire est sélectionnée, le bit de parité qui est transmis est choisi de manière à ce que le nombre total de bits 1 transmis (7 bits de données plus le bit de parité) soit pair. \n",
    "\n",
    "Lorsque la parité impaire est sélectionnée, le bit de parité est choisi de manière à ce que le nombre total de bits transmis soit impair.\n",
    "\n",
    "Écrivez une fonction qui prend un message en argument, le traduit en code ASCII et le convertit en binaire, puis ajoute le bit de parité pour chaque groupe de 7 bits. La fonction renvoie une série binaire."
   ]
  },
  {
   "cell_type": "markdown",
   "metadata": {},
   "source": [
    "## Exercice 12\n",
    "Une date ordinale ([ordinal date](https://en.wikipedia.org/wiki/Ordinal_date)) se compose d'une année et d'un jour, qui sont tous deux des nombres entiers. L'année peut être n'importe quelle année du calendrier grégorien, tandis que le jour de l'année va de 1, qui représente le 1er janvier, à 365 (ou 366 si l'année est bissextile), qui représente le 31 décembre. Les dates ordinales sont pratiques pour calculer les différences entre des dates qui correspondent à un nombre spécifique de jours (plutôt que de mois). Par exemple, les dates ordinales peuvent être utilisées pour déterminer facilement si un client est dans un délai de remboursement de 90 jours, la date limite de vente d'un produit alimentaire en fonction de sa date de production, et la date d'accouchement d'un bébé.\n",
    "\n",
    "Écrivez une fonction nommée *ordinalDate* qui prend trois entiers comme paramètres.\n",
    "\n",
    "Ces paramètres seront respectivement le jour, le mois et l'année. La fonction doit retourner le jour dans l'année pour cette date comme seul résultat."
   ]
  },
  {
   "cell_type": "markdown",
   "metadata": {},
   "source": [
    "## Exercice 13\n",
    "Créez une fonction qui prend comme paramètres une date ordinale, constituée d'une année et d'un jour de cette année. La fonction renvoie comme résultat le jour et le mois correspondant à cette date ordinale. Assurez-vous que votre fonction traite correctement les années bissextiles.\n",
    "\n",
    "Utilisez votre fonction, ainsi que la fonction *ordinalDate* que vous avez écrit précédemment, pour créer un programme qui lit une date auprès de l'utilisateur. Votre programme doit ensuite fournir une deuxième date qui se produit un certain nombre de jours plus tard. Par exemple, votre programme peut lire la date d'achat d'un produit et indiquer la dernière date à laquelle il peut être retourné (sur la base du délai de retour d'un certain nombre de jours). Assurez-vous que votre programme traite correctement les cas où la date saisie et la date calculée se situent dans des années différentes."
   ]
  },
  {
   "cell_type": "markdown",
   "metadata": {},
   "source": [
    "## Exercice 14\n",
    "Écrivez une fonction qui génère un mot de passe aléatoire. Le mot de passe doit avoir une longueur aléatoire comprise entre 7 et 10 caractères. Chaque caractère doit être choisi au hasard parmi les positions 33 à 126 de la table ASCII. Votre fonction ne prend pas de paramètres."
   ]
  },
  {
   "cell_type": "markdown",
   "metadata": {},
   "source": [
    "## Exercice 15\n",
    "Dans cet exercice, vous allez écrire une fonction qui détermine si un mot de passe est bon ou non. Nous définirons un bon mot de passe comme étant un mot de passe d'au moins 8 caractères et contenant au moins une lettre majuscule, au moins une lettre minuscule, au un moins caractère spécial, et au moins un chiffre. Votre fonction doit retourner *True* si le mot de passe qui lui est passé comme seul paramètre est bon. Sinon, elle doit renvoyer *False*."
   ]
  },
  {
   "cell_type": "markdown",
   "metadata": {},
   "source": [
    "## Exercice 16\n",
    "En utilisant vos solutions aux exercices précédents, écrivez un programme qui génère un bon mot de passe aléatoire et l'affiche. Comptez et affichez le nombre de tentatives qui ont été nécessaires avant qu'un bon mot de passe soit généré."
   ]
  },
  {
   "cell_type": "markdown",
   "metadata": {},
   "source": [
    "## Exercice 17\n",
    "Écrivez deux fonctions, *hex2int* et *int2hex*, qui convertissent les chiffres hexadécimaux (0, 1, 2, 3, 4, 5, 6, 7, 8, 9, A, B, C, D, E et F) en nombres entiers décimaux (base 10).\n",
    "\n",
    "Chaque fonction prend la valeur à convertir comme seul paramètre et renvoie la valeur convertie comme seul résultat. Assurez-vous que la fonction *hex2int* fonctionne correctement pour les lettres majuscules et minuscules. Vos fonctions doivent afficher un message d'erreur significatif et mettre fin au programme si la valeur du paramètre est en dehors de la plage de valeurs attendues."
   ]
  },
  {
   "cell_type": "markdown",
   "metadata": {},
   "source": [
    "## Exercice 18\n",
    "Écrivez un programme qui permet à l'utilisateur de convertir un nombre d'une base à une autre.\n",
    "\n",
    "Votre programme doit prendre en charge les bases comprises entre 2 et 16, tant pour le nombre d'entrée que pour le nombre de résultat. Si l'utilisateur choisit une base en dehors de cette plage, un message d'erreur approprié doit s'afficher et le programme doit se terminer."
   ]
  },
  {
   "cell_type": "markdown",
   "metadata": {},
   "source": [
    "## Exercice 19\n",
    "Écrivez une fonction qui prend comme seuls paramètres deux entiers positifs représentant le numérateur et le dénominateur d'une fraction. Le corps de la fonction doit réduire la fraction aux termes les plus bas, puis retourner le numérateur et le dénominateur de la fraction réduite comme résultat. Par exemple, si les paramètres transmis à la fonction sont 6 et 63, la fonction doit renvoyer 2 et 21."
   ]
  },
  {
   "cell_type": "markdown",
   "metadata": {},
   "source": [
    "## Exercice 20\n",
    "Même après la chute de l'empire romain, ses chiffres ont continué à être largement utilisés en Europe jusqu'à la fin du Moyen Âge, et ses chiffres sont encore utilisés dans des circonstances limitées aujourd'hui.\n",
    "\n",
    "Les [chiffres romains](https://fr.wikipedia.org/wiki/Num%C3%A9ration_romaine) sont construits à partir des lettres M, D, C, L, X, V et I qui représentent respectivement 1000, 500, 100, 50, 10, 5 et 1. Les chiffres s'écrivent généralement de la plus grande valeur à la plus petite. Dans ce cas, la valeur du nombre est la somme des valeurs de tous ses chiffres. Si une valeur plus petite précède une valeur plus grande, alors la valeur plus petite est soustraite de la valeur plus grande qu'elle précède immédiatement, et cette différence est ajoutée à la valeur du nombre.\n",
    "\n",
    "Convertit un chiffre romain de l'utilisateur en un nombre entier."
   ]
  },
  {
   "cell_type": "markdown",
   "metadata": {},
   "source": [
    "## Exercice 21\n",
    "Chaque [élément chimique](https://fr.wikipedia.org/wiki/Liste_des_%C3%A9l%C3%A9ments_chimiques) a un symbole standard d'une, deux ou trois lettres.\n",
    "\n",
    "Un jeu auquel certaines personnes aiment jouer consiste à déterminer si un mot peut être écrit en utilisant uniquement les symboles des éléments. Par exemple, le \"Silicon\" peut être écrit à l'aide des symboles Si, Li, C, O et N. Par contre, \"Hydrogen\" ne peut être écrit à l'aide d'aucune combinaison de symboles d'éléments. Écrivez une fonction qui détermine si un mot peut être écrit en utilisant uniquement des symboles d'éléments. Votre fonction aura besoin de deux paramètres : le mot que vous essayez d'écrire et une liste des symboles qui peuvent être utilisés. Elle renvoie une chaîne de caractères contenant les symboles utilisés pour écrire le mot, ou une chaîne vide s'il n'existe pas d'orthographe. Les majuscules doivent être ignorées.\n",
    "\n",
    "Créez un programme qui utilise votre fonction pour trouver et afficher tous les noms d'éléments qui peuvent être écrits en utilisant uniquement les symboles d'éléments."
   ]
  },
  {
   "cell_type": "markdown",
   "metadata": {},
   "source": [
    "## Exercice 22\n",
    "Les listes de Python peuvent contenir d'autres listes. Lorsqu'une liste se trouve à l'intérieur d'une autre, on dit que la liste intérieure est imbriquée dans la liste extérieure.\n",
    "\n",
    "Chacune des listes internes imbriquées dans la liste externe peut également contenir des listes imbriquées, et ces listes peuvent contenir des listes imbriquées à n'importe quelle profondeur. Par exemple, la liste suivante comprend des éléments qui sont imbriqués à plusieurs profondeurs différentes : [1, [2, 3], [4, [5, [6, 7]]], [[[8], 9], [10]]]. Les listes qui contiennent plusieurs niveaux d'imbrication peuvent être utiles pour décrire des relations complexes entre des valeurs, mais ces listes peuvent également rendre difficile l'exécution de certaines opérations sur ces valeurs, car les valeurs sont imbriquées à différents niveaux.\n",
    "\n",
    "Aplatir une liste consiste à convertir une liste qui peut contenir plusieurs niveaux d'imbrication en une liste qui contient tous les mêmes éléments sans imbrication. Par exemple, en aplatissant la liste du paragraphe précédent, on obtient [1, 2, 3, 4, 5, 6, 7, 8, 9, 10]. L'algorithme récursif suivant peut être utilisé pour aplatir une liste nommée *data* :\n",
    "\n",
    "Si *data* est vide, alors\n",
    "    Retourne la liste vide\n",
    "Si le premier élément de *data* est une liste, alors\n",
    "    Définissez *l1* comme le résultat de l'aplatissement du premier élément de *data*.\n",
    "    Définissez *l2* comme le résultat de l'aplatissement de tous les éléments de *data*, sauf le premier.\n",
    "    Retourne la concaténation de *l1* et *l2*.\n",
    "Si le premier élément de *data* n'est pas une liste, alors\n",
    "    Définissez *l1* comme une liste contenant uniquement le premier élément de *data*.\n",
    "    Définissez *l2* comme le résultat de l'aplatissement de tous les éléments de *data*, sauf le premier.\n",
    "    Retournez la concaténation de *l1* et *l2*.\n",
    "\n",
    "Écrivez une fonction qui implémente l'algorithme d'aplatissement récursif décrit précédemment. Votre fonction prendra un argument, qui est la liste à aplatir, et retournera un résultat, qui est la liste aplatie."
   ]
  },
  {
   "cell_type": "markdown",
   "metadata": {},
   "source": [
    "## Exercice 23\n",
    "Le [codage par longueur de plage](https://fr.wikipedia.org/wiki/Codage_par_plages#:~:text=Le%20codage%20par%20plages%20ou,valeur%20donn%C3%A9e%20devrait%20%C3%AAtre%20r%C3%A9p%C3%A9t%C3%A9e.) (run-length encoding) est une technique simple de compression des données qui peut être efficace lorsque des valeurs répétées se trouvent à des positions adjacentes dans une liste. La compression est obtenue en remplaçant les groupes de valeurs répétées par une copie de la valeur, suivie du nombre de fois qu'elle doit être répétée. Par exemple, la liste [\"A\", \"A\", \"A\", \"A\", \"A\", \"A\", \"A\", \"A\", \"A\", \"A\", \"A\", \"A\", \"A\", \"B\", \"B\", \"B\", \"B\", \"A\", \"A\", \"A\", \"A\", \"A\", \"A\", \"B\"] serait comprimée sous la forme [\"A\", 13, \"B\", 4, \"A\", 6, \"B\", 1]. La décompression est effectuée en répliquant chaque valeur de la liste le nombre de fois indiqué."
   ]
  },
  {
   "cell_type": "markdown",
   "metadata": {},
   "source": [
    "## Exercice 24\n",
    "Écrivez une fonction récursive qui décompresse une liste codée par longueur de plage. Votre fonction récursive prendra comme seul argument une liste compressée en longueur de plage. Elle retournera la liste décompressée comme seul résultat."
   ]
  }
 ],
 "metadata": {
  "language_info": {
   "name": "python"
  },
  "orig_nbformat": 4
 },
 "nbformat": 4,
 "nbformat_minor": 2
}
