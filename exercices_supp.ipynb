{
  "cells": [
    {
      "attachments": {},
      "cell_type": "markdown",
      "metadata": {},
      "source": [
        "# Exercices supplémentaires (Bonus +1.5)"
      ]
    },
    {
      "attachments": {},
      "cell_type": "markdown",
      "metadata": {},
      "source": [
        "## Exercice 1\n",
        "Créez la fonction *sum_input* qui calcule la moyenne d'une collection de valeurs entrées par l'utilisateur. L'utilisateur entrera 0 comme valeur limite pour indiquer qu'aucune autre valeur ne sera fournie. Votre programme doit afficher un message d'erreur approprié si la première valeur saisie par l'utilisateur est 0."
      ]
    },
    {
      "cell_type": "code",
      "execution_count": null,
      "metadata": {},
      "outputs": [],
      "source": [
        "def sum_input():\n",
        "      valeurs = []\n",
        "      somme = 0\n",
        "      while True:\n",
        "            b = int(input(\"entrer une valeur \"))\n",
        "            if b == 0:\n",
        "                  break\n",
        "            valeurs.append(b)\n",
        "            somme += b\n",
        "      if len(valeurs) != 0:\n",
        "            moyenne = somme/len(valeurs)\n",
        "            print(\"les valeurs que vous avez saisi sont : \", valeurs)\n",
        "            print(\"la moyenne des valeurs saisi est  : \", moyenne)\n",
        "      else:\n",
        "            print(\"vous pouvez pas entrer 0 comme valeur premiere !\")\n",
        "\n",
        "sum_input()\n"
      ]
    },
    {
      "attachments": {},
      "cell_type": "markdown",
      "metadata": {},
      "source": [
        "## Exercice 2\n",
        "L'un des premiers exemples connus de cryptage a été utilisé par Jules César. César devait fournir des instructions écrites à ses généraux, mais il ne voulait pas que ses ennemis apprennent ses plans si le message tombait entre leurs mains. Il a donc développé ce que l'on a appelé plus tard le chiffre de César.\n",
        "\n",
        "Le principe de ce chiffrement est simple (et en tant que tel, il n'offre aucune protection contre les techniques modernes de décryptage). Chaque lettre du message original est décalée de 3 places. Par conséquent, A devient D, B devient E, C devient F, D devient G, etc.\n",
        "\n",
        "Les trois dernières lettres de l'alphabet sont ramenées au début : X devient A, Y devient B et Z devient C. Les caractères non alphabétiques ne sont pas modifiés par le chiffrement.\n",
        "\n",
        "Écrivez un programme qui met en œuvre un chiffrement de type César. Permettez à l'utilisateur de fournir le message et la quantité de décalage, puis affichez le message décalé. Assurez-vous que votre programme code les lettres majuscules et minuscules. Votre programme doit également prendre en charge les valeurs de décalage négatives afin qu'il puisse être utilisé à la fois pour coder et décoder des messages."
      ]
    },
    {
      "cell_type": "code",
      "execution_count": null,
      "metadata": {},
      "outputs": [],
      "source": [
        "def cryptCesar(message, decalage):\n",
        "    messageEncrypter = \"\"\n",
        "    for lettre in message:\n",
        "        if lettre.isalpha():\n",
        "            lettre_code = ord(lettre)\n",
        "            if lettre.isupper():\n",
        "                decalage_code = ord('A')\n",
        "            else:\n",
        "                decalage_code = ord('a')\n",
        "            lettre_code = ((lettre_code - decalage_code + decalage) % 26) + decalage_code\n",
        "            messageEncrypter += chr(lettre_code)\n",
        "        else:\n",
        "            messageEncrypter += lettre\n",
        "    return messageEncrypter\n",
        "\n",
        "message = \"Hello, World!\"\n",
        "decalage = 3 \n",
        "message_crypte = cryptCesar(message, decalage)\n",
        "print(message_crypte)\n",
        "message_decrypte = cryptCesar(message_crypte, -decalage)\n",
        "print(message_decrypte)"
      ]
    },
    {
      "attachments": {},
      "cell_type": "markdown",
      "metadata": {},
      "source": [
        "## Exercice 3\n",
        "Écrivez un programme qui convertit un nombre binaire (base 2) en décimal (base 10). Votre programme doit commencer par lire le nombre binaire de l'utilisateur sous forme de chaîne de caractères. Il doit ensuite calculer le nombre décimal équivalent en traitant chaque chiffre du nombre binaire. Enfin, votre programme doit afficher le nombre décimal équivalent avec un message approprié."
      ]
    },
    {
      "cell_type": "code",
      "execution_count": null,
      "metadata": {},
      "outputs": [],
      "source": [
        "binaire = input(\"Entrez un nombre binaire : \")\n",
        "decimal = 0\n",
        "for i in range(len(binaire) - 1, -1, -1):\n",
        "    decimal = decimal + pow(2, i) * int(binaire[len(binaire) - i - 1])\n",
        "    \n",
        "print(\"Le nombre décimal équivalent est :\", decimal)"
      ]
    },
    {
      "attachments": {},
      "cell_type": "markdown",
      "metadata": {},
      "source": [
        "## Exercice 4\n",
        "Écrivez un programme qui convertit un nombre décimal (base 10) en binaire (base 2). Lisez le nombre décimal de l'utilisateur sous la forme d'un nombre entier, puis utilisez l'algorithme de division illustré ci-dessous pour effectuer la conversion. Lorsque l'algorithme est terminé, le résultat contient la représentation binaire du nombre. Affichez le résultat, accompagné d'un message approprié.\n",
        "\n",
        "    \n",
        "    Soit le résultat une chaîne de caractères vide\n",
        "\n",
        "    Soit q représentant le nombre à convertir\n",
        "    \n",
        "    Répétez:\n",
        "    \n",
        "        Fixer r égal au reste lorsque q est divisé par 2\n",
        "    \n",
        "        Convertissez r en une chaîne de caractères et ajoutez-la au début du résultat.\n",
        "    \n",
        "        Divisez q par 2, en éliminant le reste, et enregistrez le résultat dans q\n",
        "    jusqu'à ce que q soit égal à 0"
      ]
    },
    {
     "cell_type": "code",
     "execution_count": null,
     "metadata": {},
     "outputs": [],
     "source": [
      "decimal = int(input(\"Entrez un nombre décimal : \"))\n",
      "\n",
      "if decimal == 0:\n",
      "    binaire = \"0\"\n",
      "else:\n",
      "    binaire = \"\"\n",
      "    while decimal > 0:\n",
      "        reste = decimal % 2\n",
      "        binaire = str(reste) + binaire\n",
      "        decimal = decimal // 2\n",
      "\n",
      "print(f\"Le nombre binaire équivalent est : {binaire}\")\n"
     ]
    },
    {
      "attachments": {},
      "cell_type": "markdown",
      "metadata": {},
      "source": [
        "## Exercice 5\n",
        "Une sous-liste est une liste qui fait partie d'une liste plus grande. Une sous-liste peut être une liste contenant un seul élément, plusieurs éléments ou même aucun élément. Par exemple, [1], [2], [3] et [4] sont toutes des sous-listes de [1, 2, 3, 4]. La liste [2, 3] est également une sous-liste de [1, 2, 3, 4], mais [2, 4] n'est pas une sous-liste de [1, 2, 3, 4] car les éléments 2 et 4 ne sont pas adjacents dans la liste la plus longue. La liste vide est une sous-liste de toute liste. Par conséquent, [] est une sous-liste de [1, 2, 3, 4]. Une liste est une sous-liste d'elle-même, ce qui signifie que [1, 2, 3, 4] est également une sous-liste de [1, 2, 3, 4].\n",
        "\n",
        "Dans cet exercice, vous allez créer une fonction, *estSousListe*, qui détermine si une liste est ou non une sous-liste d'une autre. Votre fonction doit prendre deux listes, la plus grande (*sous_list*) et la plus petite (*super_list*), comme seuls paramètres. Elle doit retourner *True* si et seulement si *sous_list* est une sous-liste de *super_list*. Écrivez un programme qui démontre votre fonction en affichant la relation d'appartenance de plusieurs listes différentes."
      ]
    },
    {
      "cell_type": "code",
      "execution_count": null,
      "metadata": {},
      "outputs": [],
      "source": [
        "def estSousListe(sous_list, super_list):\n",
        "    if len(sous_list) == 0:\n",
        "        return True  # la liste vide est une sous-liste de n'importe quelle liste\n",
        "    for i in range(len(super_list)):\n",
        "        if super_list[i:i+len(sous_list)] == sous_list:\n",
        "            return True  # on a trouvé la sous-liste dans la super-liste\n",
        "    return False  # la sous-liste est absente de la super-liste\n",
        "\n",
        "\n",
        "print(estSousListe([2, 3], [1, 2, 3, 4])) # True\n",
        "print(estSousListe([2, 4], [1, 2, 3, 4])) # False\n"
      ]
    },
    {
      "attachments": {},
      "cell_type": "markdown",
      "metadata": {},
      "source": [
        "## Exercice 6\n",
        "Écrivez une fonction nommée *inverseRelation* qui trouve toutes les clés d'un dictionnaire qui correspondent à une valeur spécifique. La fonction prendra le dictionnaire et la valeur à rechercher comme seuls paramètres. Elle renvoie une liste (probablement vide) de clés du dictionnaire qui correspondent à la valeur fournie. Incluez un programme qui démontre la fonction *inverseRelation* dans votre solution à cet exercice. Votre programme doit créer un dictionnaire et montrer que la fonction *inverseRelation* fonctionne correctement lorsqu'elle renvoie plusieurs clés, une seule clé et aucune clé."
      ]
    },
    {
      "cell_type": "code",
      "execution_count": null,
      "metadata": {},
      "outputs": [],
      "source": [
        "def inverseRelation(dictionnaire, valeur):\n",
        "    cles = [cle for cle, val in dictionnaire.items() if val == valeur]\n",
        "    return cles\n",
        "\n",
        "dictionnaire = {'a': 1, 'b': 2, 'c': 3, 'd': 2, 'e': 1}\n",
        "print(inverseRelation(dictionnaire, 1))\n",
        "print(inverseRelation(dictionnaire, 3))\n",
        "print(inverseRelation(dictionnaire, 4))"
      ]
    },
    {
      "cell_type": "markdown",
      "metadata": {},
      "source": [
        "## Exercice 7\n",
        "Sur certains téléphones cellulaires classiques, les messages texte peuvent être envoyés à l'aide du clavier numérique. Comme chaque touche est associée à plusieurs lettres, il faut appuyer plusieurs fois sur la touche pour la plupart des lettres. Appuyer une fois sur un chiffre génère le premier caractère associé à cette touche. En appuyant 2, 3, 4 ou 5 fois sur le chiffre, on obtient le deuxième, troisième, quatrième ou cinquième caractère.\n",
        "\n",
        "<table border=\"1\">\n",
        "<thead>\n",
        "<tr><th>Touche</th><th>Caractère</th></tr>\n",
        "</thead>\n",
        "<tbody>\n",
        "<tr><td>1</td><td>.,?!:</td></tr>\n",
        "<tr><td>2</td><td>ABC</td></tr>\n",
        "<tr><td>3</td><td>DEF</td></tr>\n",
        "<tr><td>4</td><td>GHI</td></tr>\n",
        "<tr><td>5</td><td>JKL</td></tr>\n",
        "<tr><td>6</td><td>MNO</td></tr>\n",
        "<tr><td>7</td><td>PQRS</td></tr>\n",
        "<tr><td>8</td><td>TUV</td></tr>\n",
        "<tr><td>9</td><td>WXYZ</td></tr>\n",
        "<tr><td>0</td><td>espace</td></tr>\n",
        "</tbody>\n",
        "</table>\n",
        "\n",
        "Écrivez un programme qui affiche les pressions de touche nécessaires pour un message saisi par l'utilisateur. Construisez un dictionnaire qui associe chaque lettre ou symbole aux pressions de touche nécessaires pour le générer. Utilisez ensuite le dictionnaire pour créer et afficher les pressions nécessaires pour le message de l'utilisateur. Par exemple, si l'utilisateur saisit \"Hello, World !\", votre programme doit afficher \"44 33 555 555 666 11 0 9 666 777 555 3 0 1111\". Assurez-vous que votre programme traite les lettres majuscules et minuscules. Ignorez tous les caractères qui ne figurent pas dans le tableau ci-dessus, tels que les points-virgules et les parenthèses."
      ]
    },
    {
      "cell_type": "code",
      "execution_count": null,
      "metadata": {},
      "outputs": [],
      "source": [
        "CARACTERE = {",
            "'a': '2', 'b': '22', 'c': '222','d': '3', 'e': '33', 'f': '333',",
            "'g': '4', 'h': '44', 'i': '444','j': '5', 'k': '55', 'l': '555',",
            "'m': '6', 'n': '66', 'o': '666','p': '7', 'q': '77', 'r': '777', 's': '7777',",
            "'t': '8', 'u': '88', 'v': '888','w': '9', 'x': '99', 'y': '999', 'z': '9999',",
            "' ': '0','.': '1', ',': '11', '?': '111', '!': '1111', ':': '11111'",
            "}",

        "def nbrTouche(m):",
            "m = m.lower()",
            "touche = []",
            "for i in m:",
                "if i in CARACTERE:",
                   "touche.append(CARACTERE[i])",
            "return ' '.join(touche)",
        "m = input("'entrez un message'")",
        "print(nbrTouche(m))"


      ]
    },
    {
      "cell_type": "markdown",
      "metadata": {},
      "source": [
        "## Exercice 8\n",
        "Le code Morse est un schéma d'encodage qui utilise des tirets et des points pour représenter les chiffres et les lettres. Dans cet exercice, vous allez écrire un programme qui utilise un dictionnaire pour stocker la correspondance entre ces symboles et le code Morse. La correspondance entre les caractères et les tirets et points est présentée dans le tableau ci-dessous.\n",
        "\n",
        "<table border=\"1\">\n",
        "<thead>\n",
        "<tr><th>Symbole</th><th>Code</th><th>Symbole</th><th>Code</th><th>Symbole</th><th>Code</th><th>Symbole</th><th>Code</th></tr>\n",
        "</thead>\n",
        "<tbody>\n",
        "<tr><td>A</td><td>.-</td><td>J</td><td>.---</td><td>S</td><td>...</td><td>1</td><td>.----</td></tr>\n",
        "<tr><td>B</td><td>-...</td><td>K</td><td>-.-</td><td>T</td><td>-</td><td>2</td><td>..---</td></tr>\n",
        "<tr><td>C</td><td>-.-.</td><td>L</td><td>.-..</td><td>U</td><td>..-</td><td>3</td><td>...--</td></tr>\n",
        "<tr><td>D</td><td>-..</td><td>M</td><td>--</td><td>V</td><td>...-</td><td>4</td><td>....-</td></tr>\n",
        "<tr><td>E</td><td>.</td><td>N</td><td>-.</td><td>W</td><td>.--</td><td>5</td><td>.....</td></tr>\n",
        "<tr><td>F</td><td>..-.</td><td>O</td><td>---</td><td>X</td><td>-..-</td><td>6</td><td>-....</td></tr>\n",
        "<tr><td>G</td><td>--.</td><td>P</td><td>.--.</td><td>Y</td><td>-.--</td><td>7</td><td>--...</td></tr>\n",
        "<tr><td>H</td><td>....</td><td>Q</td><td>--.-</td><td>Z</td><td>--..</td><td>8</td><td>---..</td></tr>\n",
        "<tr><td>I</td><td>..</td><td>R</td><td>.-.</td><td>0</td><td>-----</td><td>9</td><td>----.</td></tr>\n",
        "</tbody>\n",
        "</table>\n",
        "\n",
        "Votre programme doit lire un message de l'utilisateur. Il doit ensuite traduire toutes les lettres et tous les chiffres du message en code Morse, en laissant un espace entre chaque séquence de tirets et de points. Votre programme doit ignorer tous les caractères qui ne figurent pas dans le tableau précédent. Le code morse pour \"Hello, World !\" est présenté ci-dessous :\n",
        "\n",
        "```raw\n",
        ".... . .-.. .-.. --- .-- --- .-. .-.. -..\n",
        "```"
      ]
    },
    {
      "cell_type": "markdown",
      "metadata": {},
      "source": [
        "## Exercice 9\n",
        "Les codes ASCII des lettres minuscules de l'alphabet vont de 97 (lettre \"a\") à 122 (lettre \"z\"). La fonction *chr* prend en argument un code ASCII sous la forme d'un entier et renvoie le caractère correspondant (sous la forme d'une chaîne de caractères). Ainsi *chr(97)* renvoie \"a\", *chr(98)* renvoie \"b\" et ainsi de suite.\n",
        "\n",
        "Créez la fonction *get_alphabet* qui utilise une boucle et la fonction *chr* et qui renvoie une chaîne de caractères contenant toutes les lettres de l'alphabet.\n",
        "\n",
        "Un [pangramme](https://fr.wikipedia.org/wiki/Pangramme) est une phrase comportant au moins une fois chaque lettre de l'alphabet. Par exemple, \"Voyez ce koala fou qui mange des journaux et des photos dans un bungalow\" est un pangramme.\n",
        "\n",
        "Créez la fonction *is_pangram* qui utilise la fonction *get_alphabet* précédente, qui prend en argument une chaîne de caractères et qui renvoie *True* est un pangramme si cette chaîne de caractères est un pangramme ou *False* sinon."
      ]
    },
    {
      "cell_type": "code",
      "execution_count": null,
      "metadata": {},
      "outputs": [],
      "source": [
        "import string, sys\n",
        "def get_alphabet():\n",
        "    result = \"\"\n",
        "    for i in range(97, 123):\n",
        "        result += chr(i)\n",
        "    \n",
        "    return result\n",
        "\n",
        "def is_pangram(sentence):\n",
        "    return set(get_alphabet()) <= set(sentence.lower())\n",
        " \n",
        "\n",
        "print(is_pangram('Voyez ce koala fou qui mange des journaux et des photos dans un bungalow'))\n",
        "print(is_pangram(\n",
        "    'Voyez ce koala fou, qui mange des journaux et des photos'))\n"
      ]
    },
    {
      "cell_type": "markdown",
      "metadata": {},
      "source": [
        "## Exercice 10\n",
        "Implémentez une fonction qui prend un entier comme argument et affiche un [triangle Pascal](https://fr.wikipedia.org/wiki/Triangle_de_Pascal). Par exemple, prenons la valeur 6 comme argument, la fonction affiche le triangle suivant :\n",
        "\n",
        "```\n",
        "1\n",
        "1 1\n",
        "1 2 1\n",
        "1 3 3 1\n",
        "1 4 6 4 1\n",
        "1 5 10 10 5 1\n",
        "```"
      ]
    },
    {
      "cell_type": "code",
      "execution_count": null,
      "metadata": {},
      "outputs": [],
      "source": [
        "def pascal_triangle(n):\n",
        "    row = [1]\n",
        "    rows = [row]\n",
        "    for i in range(1, n):\n",
        "        new_row = [1]\n",
        "        for j in range(1, i):\n",
        "            new_row.append(row[j-1] + row[j])\n",
        "        new_row.append(1)\n",
        "        rows.append(new_row)\n",
        "        row = new_row\n",
        "\n",
        "    for row in rows:\n",
        "        print(\" \".join([str(valeur) for valeur in row]))\n",
        "\n",
        "\n",
        "pascal_triangle(6)\n"
      ]
    },
    {
      "cell_type": "markdown",
      "metadata": {},
      "source": [
        "## Exercice 11\n",
        "Un bit de parité ([parity bit](https://en.wikipedia.org/wiki/Parity_bit)) est un mécanisme simple de détection des erreurs dans les données transmises sur une connexion non fiable telle qu'une ligne téléphonique. L'idée de base est qu'un bit supplémentaire est transmis après chaque groupe de 7 bits afin de pouvoir détecter une erreur d'un seul bit dans la transmission.\n",
        "\n",
        "Les bits de parité peuvent être calculés pour une parité paire ou impaire. Si la parité paire est sélectionnée, le bit de parité qui est transmis est choisi de manière à ce que le nombre total de bits 1 transmis (7 bits de données plus le bit de parité) soit pair. \n",
        "\n",
        "Lorsque la parité impaire est sélectionnée, le bit de parité est choisi de manière à ce que le nombre total de bits transmis soit impair.\n",
        "\n",
        "Écrivez une fonction qui prend un message en argument, le traduit en code ASCII et le convertit en binaire, puis ajoute le bit de parité pour chaque groupe de 7 bits. La fonction renvoie une série binaire."
      ]
    },
    {
      "cell_type": "markdown",
      "metadata": {},
      "source": [
        "## Exercice 12\n",
        "Une date ordinale ([ordinal date](https://en.wikipedia.org/wiki/Ordinal_date)) se compose d'une année et d'un jour, qui sont tous deux des nombres entiers. L'année peut être n'importe quelle année du calendrier grégorien, tandis que le jour de l'année va de 1, qui représente le 1er janvier, à 365 (ou 366 si l'année est bissextile), qui représente le 31 décembre. Les dates ordinales sont pratiques pour calculer les différences entre des dates qui correspondent à un nombre spécifique de jours (plutôt que de mois). Par exemple, les dates ordinales peuvent être utilisées pour déterminer facilement si un client est dans un délai de remboursement de 90 jours, la date limite de vente d'un produit alimentaire en fonction de sa date de production, et la date d'accouchement d'un bébé.\n",
        "\n",
        "Écrivez une fonction nommée *ordinalDate* qui prend trois entiers comme paramètres.\n",
        "\n",
        "Ces paramètres seront respectivement le jour, le mois et l'année. La fonction doit retourner le jour dans l'année pour cette date comme seul résultat."
      ]
    },
    {
      "cell_type": "markdown",
      "metadata": {},
      "source": [
        "## Exercice 13\n",
        "Créez une fonction qui prend comme paramètres une date ordinale, constituée d'une année et d'un jour de cette année. La fonction renvoie comme résultat le jour et le mois correspondant à cette date ordinale. Assurez-vous que votre fonction traite correctement les années bissextiles.\n",
        "\n",
        "Utilisez votre fonction, ainsi que la fonction *ordinalDate* que vous avez écrit précédemment, pour créer un programme qui lit une date auprès de l'utilisateur. Votre programme doit ensuite fournir une deuxième date qui se produit un certain nombre de jours plus tard. Par exemple, votre programme peut lire la date d'achat d'un produit et indiquer la dernière date à laquelle il peut être retourné (sur la base du délai de retour d'un certain nombre de jours). Assurez-vous que votre programme traite correctement les cas où la date saisie et la date calculée se situent dans des années différentes."
      ]
    },
    {
      "cell_type": "code",
      "execution_count": null,
      "metadata": {},
      "outputs": [],
      "source": [
        "import datetime\n",
        "\n",
        "\n",
        "def jour_mois(date_ord):\n",
        "    annee = date_ord[0]\n",
        "    jour = date_ord[1]\n",
        "    jours_par_mois = [31, 29, 31, 30, 31, 30, 31, 31, 30, 31, 30, 31]\n",
        "\n",
        "    if annee % 4 == 0 and (annee % 100 != 0 or annee % 400 == 0):\n",
        "        # l'année est bissextile\n",
        "        if jour > 366:\n",
        "            return\n",
        "    else:\n",
        "        if jour > 365:\n",
        "            return\n",
        "        jours_par_mois[1] = 28\n",
        "\n",
        "    mois = 0\n",
        "    while jour > jours_par_mois[mois]:\n",
        "        jour -= jours_par_mois[mois]\n",
        "        mois += 1\n",
        "    return (jour, mois+1)\n",
        "\n",
        "\n",
        "def date_plus_jours(date, jours):\n",
        "    annee, mois, jour = date\n",
        "    date_ord = datetime.date(annee, mois, jour).toordinal()\n",
        "    date_ord += jours\n",
        "    annee = datetime.date.fromordinal(date_ord).year\n",
        "    jour, mois = jour_mois(\n",
        "        (annee, date_ord - datetime.date(annee, 1, 1).toordinal() + 1))\n",
        "    return f\"{annee}-{mois:02}-{jour:02}\"\n",
        "\n",
        "\n",
        "print(jour_mois((2023, 211)))\n",
        "\n",
        "date = input(\"Entrez une date au format 'AAAA-MM-JJ': \")\n",
        "date = map(int, date.split('-'))\n",
        "jours = int(input(\"Entrez un nombre de jours : \"))\n",
        "print(date_plus_jours(date, jours))\n"
      ]
    },
    {
      "cell_type": "markdown",
      "metadata": {},
      "source": [
        "## Exercice 14\n",
        "Écrivez une fonction qui génère un mot de passe aléatoire. Le mot de passe doit avoir une longueur aléatoire comprise entre 7 et 10 caractères. Chaque caractère doit être choisi au hasard parmi les positions 33 à 126 de la table ASCII. Votre fonction ne prend pas de paramètres."
      ]
    },
    {
      "cell_type": "code",
      "execution_count": null,
      "metadata": {},
      "outputs": [],
      "source": [
        "import random\n",
        "import string\n",
        "\n",
        "# code 1\n",
        "\n",
        "\n",
        "def generate_password1():\n",
        "    length = random.randint(7, 10)\n",
        "    password = \"\"\n",
        "    for i in range(length):\n",
        "        # ASCII\n",
        "        password = password + chr(random.randint(33, 126))\n",
        "    return password\n",
        "\n",
        "\n",
        "print(\"le mot de pass est ->\", generate_password1())\n",
        "\n",
        "# code 2\n",
        "# only numbers(ascii number between 48 and 57) and letters(ascii number between 65 and 90 and between 97 and 122)\n",
        "\n",
        "\n",
        "def generate_password():\n",
        "    length = random.randint(7, 10)\n",
        "    password = ''.join(random.sample(\n",
        "        string.ascii_letters + string.digits, length))\n",
        "    return password\n",
        "\n",
        "\n",
        "print(\"le mot de pass est ->\", generate_password())\n"
      ]
    },
    {
      "cell_type": "markdown",
      "metadata": {},
      "source": [
        "## Exercice 15\n",
        "Dans cet exercice, vous allez écrire une fonction qui détermine si un mot de passe est bon ou non. Nous définirons un bon mot de passe comme étant un mot de passe d'au moins 8 caractères et contenant au moins une lettre majuscule, au moins une lettre minuscule, au un moins caractère spécial, et au moins un chiffre. Votre fonction doit retourner *True* si le mot de passe qui lui est passé comme seul paramètre est bon. Sinon, elle doit renvoyer *False*."
      ]
    },
    {
      "cell_type": "code",
      "execution_count": null,
      "metadata": {},
      "outputs": [],
      "source": [
        "import re\n",
        "\n",
        "def verifier_mdp(password):\n",
        "    if len(password) < 8:\n",
        "        return False\n",
        "    if not re.search(\"[A-Z]\", password):\n",
        "        return False\n",
        "    if not re.search(\"[a-z]\", password):\n",
        "        return False\n",
        "    if not re.search(\"[0-9]\", password):\n",
        "        return False\n",
        "    if not re.search(\"[@#$%^&+=]\", password):\n",
        "        return False\n",
        "    return True\n",
        "verification=verifier_mdp(\"SoFiA15#\")\n",
        "print(verification)"
      ]
    },
    {
      "cell_type": "markdown",
      "metadata": {},
      "source": [
        "## Exercice 16\n",
        "En utilisant vos solutions aux exercices précédents, écrivez un programme qui génère un bon mot de passe aléatoire et l'affiche. Comptez et affichez le nombre de tentatives qui ont été nécessaires avant qu'un bon mot de passe soit généré."
      ]
    },
    {
      "cell_type": "code",
      "execution_count": null,
      "metadata": {},
      "outputs": [],
      "source": [
        "mot_de_passe = ''\n",
        "tentatives = 0\n",
        "while not verifier_mdp(mot_de_passe):\n",
        "    mot_de_passe = generate_password1()\n",
        "    tentatives += 1\n",
        "print(\"Mot de passe généré:\", mot_de_passe)\n",
        "print(\"Nombre de tentatives nécessaires:\", tentatives)\n"
      ]
    },
    {
      "cell_type": "markdown",
      "metadata": {},
      "source": [
        "## Exercice 17\n",
        "Écrivez deux fonctions, *hex2int* et *int2hex*, qui convertissent les chiffres hexadécimaux (0, 1, 2, 3, 4, 5, 6, 7, 8, 9, A, B, C, D, E et F) en nombres entiers décimaux (base 10).\n",
        "\n",
        "Chaque fonction prend la valeur à convertir comme seul paramètre et renvoie la valeur convertie comme seul résultat. Assurez-vous que la fonction *hex2int* fonctionne correctement pour les lettres majuscules et minuscules. Vos fonctions doivent afficher un message d'erreur significatif et mettre fin au programme si la valeur du paramètre est en dehors de la plage de valeurs attendues."
      ]
    },
    {
      "cell_type": "code",
      "execution_count": null,
      "metadata": {},
      "outputs": [],
      "source": [
        "def hex2int(st):\n",
        "\n",
        "    try:\n",
        "        res = int(st, 16)\n",
        "        return res\n",
        "\n",
        "    except:\n",
        "        print(\"erreur\")\n",
        "\n",
        "\n",
        "def int2hex(h):\n",
        "    try:\n",
        "        res = hex(h)\n",
        "        return res\n",
        "\n",
        "    except:\n",
        "        print(\"erreur\")\n",
        "\n",
        "\n",
        "print(hex2int('A'))\n",
        "\n",
        "print(int2hex(10))\n"
      ]
    },
    {
      "cell_type": "markdown",
      "metadata": {},
      "source": [
        "## Exercice 18\n",
        "Écrivez un programme qui permet à l'utilisateur de convertir un nombre d'une base à une autre.\n",
        "\n",
        "Votre programme doit prendre en charge les bases comprises entre 2 et 16, tant pour le nombre d'entrée que pour le nombre de résultat. Si l'utilisateur choisit une base en dehors de cette plage, un message d'erreur approprié doit s'afficher et le programme doit se terminer."
      ]
    },
    {
      "cell_type": "code",
      "execution_count": null,
      "metadata": {},
      "outputs": [],
      "source": [
        "def convert(number, base_in, base_out):\n",
        "    \n",
        "    try:\n",
        "        decimal = int(str(number), base_in)\n",
        "        \n",
        "        result = ''\n",
        "        while decimal > 0:\n",
        "            remainder = decimal % base_out\n",
        "            if remainder > 9:\n",
        "                remainder = chr(remainder - 10 + 65)\n",
        "            result = str(remainder) + result\n",
        "            decimal //= base_out\n",
        "        \n",
        "        return result\n",
        "    except ValueError:\n",
        "        print(\"Le nombre d'entrée n'est pas dans la base spécifiée.\")\n",
        "        return None\n",
        "\n",
        "number = input(\"Entrez le nombre à convertir : \")\n",
        "base_in = int(input(\"Entrez la base du nombre d'entrée (entre 2 et 16) : \"))\n",
        "base_out = int(input(\"Entrez la base du nombre de sortie (entre 2 et 16) : \"))\n",
        "\n",
        "if not 2 <= base_in <= 16 or not 2 <= base_out <= 16:\n",
        "    print(\"Les bases doivent être comprises entre 2 et 16.\")\n",
        "else:\n",
        "    result = convert(number, base_in, base_out)\n",
        "    if result:\n",
        "        print(f\"{number} (base {base_in}) = {result} (base {base_out})\")\n"
      ]
    },
    {
      "cell_type": "code",
      "execution_count": null,
      "metadata": {},
      "outputs": [],
      "source": [
        "def convert_base(num, from_base, to_base):\n",
        "    if from_base < 2 or to_base < 2 or from_base > 16 or to_base > 16:\n",
        "        raise ValueError(\"Les bases doivent être comprises entre 2 et 16.\")\n",
        "\n",
        "    # Conversion de la chaîne de caractères en entier\n",
        "    dec_num = int(str(num), from_base)\n",
        "\n",
        "    # Conversion de l'entier en chaîne de caractères dans la nouvelle base\n",
        "    digits = \"0123456789ABCDEF\"\n",
        "    if dec_num == 0:\n",
        "        return \"0\"\n",
        "    result = \"\"\n",
        "    while dec_num > 0:\n",
        "        digit = dec_num % to_base\n",
        "        result = digits[digit] + result\n",
        "        dec_num //= to_base\n",
        "    return result\n",
        "\n",
        "\n",
        "# Lecture des données d'entrée\n",
        "num = input(\"Entrez un nombre : \")\n",
        "from_base = int(input(\"Entrez la base du nombre : \"))\n",
        "to_base = int(input(\"Entrez la base de destination : \"))\n",
        "\n",
        "# Conversion et affichage du résultat\n",
        "try:\n",
        "    result = convert_base(num, from_base, to_base)\n",
        "    print(f\"{num} en base {from_base} = {result} en base {to_base}\")\n",
        "except ValueError as e:\n",
        "    print(e)\n"
      ]
    },
    {
      "cell_type": "markdown",
      "metadata": {},
      "source": [
        "## Exercice 19\n",
        "Écrivez une fonction qui prend comme seuls paramètres deux entiers positifs représentant le numérateur et le dénominateur d'une fraction. Le corps de la fonction doit réduire la fraction aux termes les plus bas, puis retourner le numérateur et le dénominateur de la fraction réduite comme résultat. Par exemple, si les paramètres transmis à la fonction sont 6 et 63, la fonction doit renvoyer 2 et 21."
      ]
    },
    {
      "cell_type": "code",
      "execution_count": null,
      "metadata": {},
      "outputs": [],
      "source": [
        "def fraction(num, den):\n",
        "    pgcd = 1\n",
        "    for i in range(1, min(num, den) + 1):\n",
        "        if num % i == 0 and den % i == 0:\n",
        "            pgcd = i\n",
        "\n",
        "    num2 = num//pgcd\n",
        "    den2 = den//pgcd\n",
        "\n",
        "    return num2, den2\n",
        "\n",
        "\n",
        "print(fraction(6, 63))\n"
      ]
    },
    {
      "cell_type": "markdown",
      "metadata": {},
      "source": [
        "## Exercice 20\n",
        "Même après la chute de l'empire romain, ses chiffres ont continué à être largement utilisés en Europe jusqu'à la fin du Moyen Âge, et ses chiffres sont encore utilisés dans des circonstances limitées aujourd'hui.\n",
        "\n",
        "Les [chiffres romains](https://fr.wikipedia.org/wiki/Num%C3%A9ration_romaine) sont construits à partir des lettres M, D, C, L, X, V et I qui représentent respectivement 1000, 500, 100, 50, 10, 5 et 1. Les chiffres s'écrivent généralement de la plus grande valeur à la plus petite. Dans ce cas, la valeur du nombre est la somme des valeurs de tous ses chiffres. Si une valeur plus petite précède une valeur plus grande, alors la valeur plus petite est soustraite de la valeur plus grande qu'elle précède immédiatement, et cette différence est ajoutée à la valeur du nombre.\n",
        "\n",
        "Convertit un chiffre romain de l'utilisateur en un nombre entier."
      ]
    },
    {
      "cell_type": "markdown",
      "metadata": {},
      "source": [
        "## Exercice 21\n",
        "Chaque [élément chimique](https://fr.wikipedia.org/wiki/Liste_des_%C3%A9l%C3%A9ments_chimiques) a un symbole standard d'une, deux ou trois lettres.\n",
        "\n",
        "Un jeu auquel certaines personnes aiment jouer consiste à déterminer si un mot peut être écrit en utilisant uniquement les symboles des éléments. Par exemple, le \"Silicon\" peut être écrit à l'aide des symboles Si, Li, C, O et N. Par contre, \"Hydrogen\" ne peut être écrit à l'aide d'aucune combinaison de symboles d'éléments. Écrivez une fonction qui détermine si un mot peut être écrit en utilisant uniquement des symboles d'éléments. Votre fonction aura besoin de deux paramètres : le mot que vous essayez d'écrire et une liste des symboles qui peuvent être utilisés. Elle renvoie une chaîne de caractères contenant les symboles utilisés pour écrire le mot, ou une chaîne vide s'il n'existe pas d'orthographe. Les majuscules doivent être ignorées.\n",
        "\n",
        "Créez un programme qui utilise votre fonction pour trouver et afficher tous les noms d'éléments qui peuvent être écrits en utilisant uniquement les symboles d'éléments."
      ]
    },
    {
      "cell_type": "code",
      "execution_count": null,
      "metadata": {},
      "outputs": [],
      "source": [
        "def symbols_for_word(word, symbols_list):\n",
        "    symbols_dict = {symbol.lower(): symbol for symbol in symbols_list}\n",
        "    result = []\n",
        "    i = 0\n",
        "    while i < len(word):\n",
        "        symbol_len = 1\n",
        "        if i < len(word) - 1 and word[i:i+2].lower() in symbols_dict:\n",
        "            symbol_len = 2\n",
        "        symbol = symbols_dict.get(word[i:i+symbol_len].lower())\n",
        "        if symbol is None:\n",
        "            return \"Aucune combinaison de symboles d'éléments\"\n",
        "        result.append(symbol)\n",
        "        i += symbol_len\n",
        "    return \"\".join(result)\n",
        "\n",
        "\n",
        "\n",
        "symbols_list = [\"Si\", \"Li\", \"Co\", \"N\", \"Fe\", \"Ar\"]\n",
        "\n",
        "print(symbols_for_word('Silicon', symbols_list)) \n",
        "print(symbols_for_word('Fear', symbols_list))\n",
        "print(symbols_for_word('Hydrogen', symbols_list))"
      ]
    },
    {
      "cell_type": "markdown",
      "metadata": {},
      "source": [
        "## Exercice 22\n",
        "Les listes de Python peuvent contenir d'autres listes. Lorsqu'une liste se trouve à l'intérieur d'une autre, on dit que la liste intérieure est imbriquée dans la liste extérieure.\n",
        "\n",
        "Chacune des listes internes imbriquées dans la liste externe peut également contenir des listes imbriquées, et ces listes peuvent contenir des listes imbriquées à n'importe quelle profondeur. Par exemple, la liste suivante comprend des éléments qui sont imbriqués à plusieurs profondeurs différentes : [1, [2, 3], [4, [5, [6, 7]]], [[[8], 9], [10]]]. Les listes qui contiennent plusieurs niveaux d'imbrication peuvent être utiles pour décrire des relations complexes entre des valeurs, mais ces listes peuvent également rendre difficile l'exécution de certaines opérations sur ces valeurs, car les valeurs sont imbriquées à différents niveaux.\n",
        "\n",
        "Aplatir une liste consiste à convertir une liste qui peut contenir plusieurs niveaux d'imbrication en une liste qui contient tous les mêmes éléments sans imbrication. Par exemple, en aplatissant la liste du paragraphe précédent, on obtient [1, 2, 3, 4, 5, 6, 7, 8, 9, 10]. L'algorithme récursif suivant peut être utilisé pour aplatir une liste nommée *data* :\n",
        "\n",
        "Si *data* est vide, alors\n",
        "    Retourne la liste vide\n",
        "Si le premier élément de *data* est une liste, alors\n",
        "    Définissez *l1* comme le résultat de l'aplatissement du premier élément de *data*.\n",
        "    Définissez *l2* comme le résultat de l'aplatissement de tous les éléments de *data*, sauf le premier.\n",
        "    Retourne la concaténation de *l1* et *l2*.\n",
        "Si le premier élément de *data* n'est pas une liste, alors\n",
        "    Définissez *l1* comme une liste contenant uniquement le premier élément de *data*.\n",
        "    Définissez *l2* comme le résultat de l'aplatissement de tous les éléments de *data*, sauf le premier.\n",
        "    Retournez la concaténation de *l1* et *l2*.\n",
        "\n",
        "Écrivez une fonction qui implémente l'algorithme d'aplatissement récursif décrit précédemment. Votre fonction prendra un argument, qui est la liste à aplatir, et retournera un résultat, qui est la liste aplatie."
      ]
    },
    {
      "cell_type": "markdown",
      "metadata": {},
      "source": [
        "## Exercice 23\n",
        "Le [codage par longueur de plage](https://fr.wikipedia.org/wiki/Codage_par_plages#:~:text=Le%20codage%20par%20plages%20ou,valeur%20donn%C3%A9e%20devrait%20%C3%AAtre%20r%C3%A9p%C3%A9t%C3%A9e.) (run-length encoding) est une technique simple de compression des données qui peut être efficace lorsque des valeurs répétées se trouvent à des positions adjacentes dans une liste. La compression est obtenue en remplaçant les groupes de valeurs répétées par une copie de la valeur, suivie du nombre de fois qu'elle doit être répétée. Par exemple, la liste [\"A\", \"A\", \"A\", \"A\", \"A\", \"A\", \"A\", \"A\", \"A\", \"A\", \"A\", \"A\", \"A\", \"B\", \"B\", \"B\", \"B\", \"A\", \"A\", \"A\", \"A\", \"A\", \"A\", \"B\"] serait comprimée sous la forme [\"A\", 13, \"B\", 4, \"A\", 6, \"B\", 1]. La décompression est effectuée en répliquant chaque valeur de la liste le nombre de fois indiqué."
      ]
    },
    {
      "cell_type": "markdown",
      "metadata": {},
      "source": [
        "## Exercice 24\n",
        "Écrivez une fonction récursive qui décompresse une liste codée par longueur de plage. Votre fonction récursive prendra comme seul argument une liste compressée en longueur de plage. Elle retournera la liste décompressée comme seul résultat."
      ]
    },
    {
      "cell_type": "code",
      "execution_count": null,
      "metadata": {},
      "outputs": [],
      "source": [
        "def decompress(liste):\n",
        "    if not liste:\n",
        "        return []\n",
        "    else:\n",
        "        valeur, loccurence = liste[0:2]\n",
        "        return [valeur] * loccurence + decompress(liste[2:])\n",
        "\n",
        "\n",
        "lst = [\"A\", 13, \"B\", 4, \"A\", 6, \"B\", 1]\n",
        "print(decompress(lst))\n"
      ]
    }
  ],
  "metadata": {
    "kernelspec": {
      "display_name": "Python 3",
      "language": "python",
      "name": "python3"
    },
    "language_info": {
      "codemirror_mode": {
        "name": "ipython",
        "version": 3
      },
      "file_extension": ".py",
      "mimetype": "text/x-python",
      "name": "python",
      "nbconvert_exporter": "python",
      "pygments_lexer": "ipython3",
      "version": "3.10.4"
    },
    "orig_nbformat": 4
  },
  "nbformat": 4,
  "nbformat_minor": 2
}
